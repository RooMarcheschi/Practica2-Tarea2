{
 "cells": [
  {
   "cell_type": "markdown",
   "id": "70284ef6",
   "metadata": {},
   "source": [
    "# Resolucion del ejericico 10 de la practica 2"
   ]
  },
  {
   "cell_type": "markdown",
   "id": "b229d89a",
   "metadata": {},
   "source": [
    "## Enunciado:\n",
    " Trabajando con los contenidos de los archivos que se pueden acceder en el curso: nombres, eval1 y eval2. Manipule los archivos para realizar lo siguiente:\n",
    "1. Generar una estructura con los nombres de os estudiantes y la suma de ambas notas.\n",
    "2. Calcular el promedio de las notas totales e informar que alumnos obtuvieron menos que el promedio."
   ]
  },
  {
   "cell_type": "markdown",
   "id": "313d397c",
   "metadata": {},
   "source": [
    "## Lo primero que debemos hacer sera:\n",
    "1. Abrir los archivos para poder usarlos en el programa,\n",
    "2. Convertir cada uno de estos a lista para poder acceder a sus valores de forma indexada."
   ]
  },
  {
   "cell_type": "code",
   "execution_count": null,
   "id": "2c43d0b8",
   "metadata": {},
   "outputs": [],
   "source": [
    "with open('nombres1.txt', 'r') as name:\n",
    "    names = name.read().split(',')\n",
    "with open('eval1.txt', 'r') as grade1:\n",
    "    grades1 = grade1.read().split(',')\n",
    "with open('eval2.txt', 'r') as grade2:\n",
    "    grades2 = grade2.read().split(',')"
   ]
  },
  {
   "cell_type": "markdown",
   "id": "f68d5b3b",
   "metadata": {},
   "source": [
    "### En las lineas anteriores usamos los metodos:\n",
    "#### 1. with open('file.txt', 'r') as File:\n",
    "    Esta linea de codigo nos abre el archivo deseado en nestro modulo y le asigna el nombre File, con el que referenciaremos al archivo 'file.txt' a lo largo de nuestro modulo. La 'r' dentro del open, indica en que modo abrimos el archivo, siendo la r para lectura, la w para escritura y la x para ejecucion, a su vez podemos combinar las letras de acuerdo a los modos con los que querramos abrir el archivo.\n",
    "#### 2. file.read():\n",
    "    El metodo read() leera el archivo byte por byte.\n",
    "#### 3. file.split(' '):\n",
    "    El metodo split separara el string del archivo en una lista, cortando a cada elemento en la secuencia pasada como argumento."
   ]
  },
  {
   "cell_type": "markdown",
   "id": "4bc6cf11",
   "metadata": {},
   "source": [
    "## Lo segundo que haremos sera:\n",
    "1. Crear una lista en donde cargaremos en forma de lista el nombre del alumno en la primera posicion y la suma de sus dos notas en la segunda posicion.   \n",
    "  list = [[alumno1, notaAlumno1],[alumno2, notaAlumno2],[alumno3, notaAlumno3],...]\n",
    "2. Ademas mientras carguemos la lista calcularemos el total de las notas para luego sacar el promedio."
   ]
  },
  {
   "cell_type": "code",
   "execution_count": null,
   "id": "979aa23f",
   "metadata": {},
   "outputs": [],
   "source": [
    "names_grades = []\n",
    "avarage = 0\n",
    "for student in range(len(names)):\n",
    "    names_grades.append([str(names[student]), int(grades1[student]) + int(grades2[student])])  #Agrega a la lista una lista con [nombre del alunmno, nota del alumno]\n",
    "    avarage = avarage + int(grades1[student]) + int(grades2[student])  #suma notas para luego calcular el promedio"
   ]
  },
  {
   "cell_type": "markdown",
   "id": "daad7972",
   "metadata": {},
   "source": [
    "## Por ultimo...\n",
    "1. Calcularemos e imprimiremos el promedio,\n",
    "2. Imprimiremos por pantalla el nombre y la nota de los alumnos con nota menor que el promedio anteriormente sacado."
   ]
  },
  {
   "cell_type": "code",
   "execution_count": null,
   "id": "a040d6fd",
   "metadata": {},
   "outputs": [],
   "source": [
    "avarage = avarage//len(names)  #Divide la suma de todas las notas por la cantidad de alumnos\n",
    "print(\"The avarage grade is \", avarage)\n",
    "print(\"And the students with grades under the avarage are: \")\n",
    "for student in names_grades:\n",
    "    if student[1] < avarage:          #compara si la nota del estudiante es menor al promedio\n",
    "        print(student[0],student[1]) #imprime el nombre y la nota del alumno con nota menor al promedio"
   ]
  },
  {
   "cell_type": "markdown",
   "id": "c8684300",
   "metadata": {},
   "source": [
    "## Termino el programa e imprimio la nota promedio y el nombre y nota de los alumnos con nota menor al promedio.\n",
    "Marcheschi Maria Rosa, turno mañana, legajo 18527/2"
   ]
  }
 ],
 "metadata": {
  "kernelspec": {
   "display_name": "Python 3 (ipykernel)",
   "language": "python",
   "name": "python3"
  },
  "language_info": {
   "codemirror_mode": {
    "name": "ipython",
    "version": 3
   },
   "file_extension": ".py",
   "mimetype": "text/x-python",
   "name": "python",
   "nbconvert_exporter": "python",
   "pygments_lexer": "ipython3",
   "version": "3.10.0"
  }
 },
 "nbformat": 4,
 "nbformat_minor": 5
}
