{
 "cells": [
  {
   "cell_type": "markdown",
   "id": "bb22d427",
   "metadata": {},
   "source": [
    "# Ejercicio 11 de la practica 2"
   ]
  },
  {
   "cell_type": "markdown",
   "id": "d2efe56a",
   "metadata": {},
   "source": [
    "## Enunciado:\n",
    "Con la informacion de los archivos de texto que se encuentran disponibles en el curso nombres_1 y nombres_2:\n",
    "1. Indique los nombres que se encuentran en ambos. Nota: pruebe utilizando list comprenhension.\n",
    "2. Genere tres variables con la lista de notas y nombres que se incluyen en los archivos: nombres_1, eval.txt y eval2.txt e imprima con formato los nombres de los estudiantes con las correspondientes nota y la suma de ambas como se ve en la imagen."
   ]
  },
  {
   "cell_type": "markdown",
   "id": "de5a0427",
   "metadata": {},
   "source": [
    "### Para la parte 1:\n",
    "1. Abrimos los archivos igual que en el ejercicio anterior, y ademas, como vemos en las ultimas 2 lineas, usamos list comprehension para eliminar un salto de linea que nos queda de haber convertido el archivo.txt a lista."
   ]
  },
  {
   "cell_type": "code",
   "execution_count": null,
   "id": "848f5c18",
   "metadata": {},
   "outputs": [],
   "source": [
    "with open('nombres1.txt', 'r') as name1:\n",
    "    names1 = name1.read().split(',')\n",
    "with open('nombres2.txt', 'r') as name2:\n",
    "    names2 = name2.read().split(',')\n",
    "    \n",
    "namess1 = [i.strip() for i in names1]\n",
    "namess2 = [i.strip() for i in names2]"
   ]
  },
  {
   "cell_type": "markdown",
   "id": "7fb8c727",
   "metadata": {},
   "source": [
    "2. Luego volvemos a utilizar list comprehension para crear una nueva lista llamada merge que estara compuesta por los nombres del archivo referenciado como names1 que tambien se encuentren en el archivo referenciado como names2.\n",
    "3. Por ultimo imprimimos los nombres de la nueva lista merge."
   ]
  },
  {
   "cell_type": "code",
   "execution_count": null,
   "id": "23900baf",
   "metadata": {},
   "outputs": [],
   "source": [
    "merge = [name for name in namess1 if name in namess2]\n",
    "\n",
    "print(\"Nombres que aparecen en los archivos nombres1 y nombres2: \")\n",
    "for name in merge:\n",
    "    print(name)"
   ]
  },
  {
   "cell_type": "markdown",
   "id": "2d1d8f34",
   "metadata": {},
   "source": [
    "### Para la parte 2:\n",
    "1. Comenzamos abriendo los archivos restantes para realizar la segunda parte, eval1.txt y eval2.txt, que serean referenciados como grades1 y grades 2 respectivamente."
   ]
  },
  {
   "cell_type": "code",
   "execution_count": null,
   "id": "c07e5217",
   "metadata": {},
   "outputs": [],
   "source": [
    "with open('eval1.txt', 'r') as grade1:\n",
    "    grades1 = grade1.read().split(',')\n",
    "with open('eval2.txt', 'r') as grade2:\n",
    "    grades2 = grade2.read().split(',')"
   ]
  },
  {
   "cell_type": "markdown",
   "id": "40a4bbab",
   "metadata": {},
   "source": [
    "2. Luego crearemos una nueva lista llamada totals en donde guardaremos la nota total del alumno, dada por la suma de la nota de grades1 y la de grades2."
   ]
  },
  {
   "cell_type": "code",
   "execution_count": null,
   "id": "d78e288b",
   "metadata": {},
   "outputs": [],
   "source": [
    "totals = []\n",
    "for i in range(len(grades1)):\n",
    "    totals.append(int(grades1[i])+int(grades2[i]))"
   ]
  },
  {
   "cell_type": "markdown",
   "id": "8d353c05",
   "metadata": {},
   "source": [
    "3. Para terminar imprimiremos las lista en el formato especificado en la imagen del enunciado."
   ]
  },
  {
   "cell_type": "code",
   "execution_count": null,
   "id": "0828c5ec",
   "metadata": {},
   "outputs": [],
   "source": [
    "print(\"Impresion de notas de los alumnos en nombres1: \")\n",
    "print(f\"{'ID':<5}{'Nombre':<20}{'Eval1':<8}{'Eval2':<8}{'Total':<8}\")\n",
    "print('-------------------------------------------------------')\n",
    "for i in range(len(namess1)):\n",
    "    print(f\"{i:<5}{namess1[i]:<20}{int(grades1[i]):<8}{int(grades2[i]):<8}{int(totals[i]):<8}\")"
   ]
  },
  {
   "cell_type": "markdown",
   "id": "07209105",
   "metadata": {},
   "source": [
    "# Termino el programa e imprimio los nombres de los alumnos que aparecen en amos archivos, y una tabla con el nombre del alumno, sus dos notas y la nota total.\n",
    "Marcheschi Maria Rosa, turno mañana, legajo 18527/2."
   ]
  }
 ],
 "metadata": {
  "kernelspec": {
   "display_name": "Python 3 (ipykernel)",
   "language": "python",
   "name": "python3"
  },
  "language_info": {
   "codemirror_mode": {
    "name": "ipython",
    "version": 3
   },
   "file_extension": ".py",
   "mimetype": "text/x-python",
   "name": "python",
   "nbconvert_exporter": "python",
   "pygments_lexer": "ipython3",
   "version": "3.10.0"
  }
 },
 "nbformat": 4,
 "nbformat_minor": 5
}
